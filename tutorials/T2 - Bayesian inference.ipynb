{
 "cells": [
  {
   "cell_type": "code",
   "execution_count": 1,
   "metadata": {},
   "outputs": [
    {
     "name": "stdout",
     "output_type": "stream",
     "text": [
      "/Users/brajard/Documents/recherche/collaboration/bigdata/DAPPER\n"
     ]
    }
   ],
   "source": [
    "from resources.workspace import *"
   ]
  },
  {
   "cell_type": "markdown",
   "metadata": {},
   "source": [
    "### The Gaussian (i.e. Normal) distribution"
   ]
  },
  {
   "cell_type": "markdown",
   "metadata": {},
   "source": [
    "Consider the random variable with a Gaussian distribution with mean $\\mu$ (`mu`) and variance $P$. We write its probability density function (**pdf**) as\n",
    "$$ p(x) = N(x|\\mu,P) = (2 \\pi P)^{-1/2} e^{-(x-\\mu)^2/2P} \\, .  \\qquad \\qquad (1) $$"
   ]
  },
  {
   "cell_type": "markdown",
   "metadata": {},
   "source": [
    "---\n",
    "**Exc 2.2:** Code it up (complete the code below)! Hints:\n",
    "* Note that `**` is the power operator in Python.\n",
    "* As in Matlab, $e^x$ is available as `exp(x)`"
   ]
  },
  {
   "cell_type": "code",
   "execution_count": 3,
   "metadata": {},
   "outputs": [],
   "source": [
    "# Univariate (scalar), Gaussian pdf\n",
    "def pdf_G_1(x,mu,P):\n",
    "    # pdf_values = ### INSERT ANSWER HERE ###\n",
    "    return sp.stats.norm.pdf(x,loc=mu,scale=sqrt(P))"
   ]
  },
  {
   "cell_type": "code",
   "execution_count": 4,
   "metadata": {},
   "outputs": [
    {
     "data": {
      "text/html": [
       "<div style=\"background-color:#d8e7ff;padding:0.5em;\"><pre><code>pdf_values = 1/sqrt(2*pi*P)*exp(-0.5*(x-mu)**2/P)\n",
       "# Version using the scipy (sp) library:\n",
       "# pdf_values = sp.stats.norm.pdf(x,loc=mu,scale=sqrt(P))\n",
       "</code></pre></div>"
      ],
      "text/plain": [
       "<IPython.core.display.HTML object>"
      ]
     },
     "metadata": {},
     "output_type": "display_data"
    }
   ],
   "source": [
    "show_answer('pdf_G_1')"
   ]
  },
  {
   "cell_type": "markdown",
   "metadata": {},
   "source": [
    "Let's plot the pdf."
   ]
  },
  {
   "cell_type": "code",
   "execution_count": 5,
   "metadata": {},
   "outputs": [
    {
     "data": {
      "application/javascript": [
       "/* Put everything inside the global mpl namespace */\n",
       "window.mpl = {};\n",
       "\n",
       "\n",
       "mpl.get_websocket_type = function() {\n",
       "    if (typeof(WebSocket) !== 'undefined') {\n",
       "        return WebSocket;\n",
       "    } else if (typeof(MozWebSocket) !== 'undefined') {\n",
       "        return MozWebSocket;\n",
       "    } else {\n",
       "        alert('Your browser does not have WebSocket support.' +\n",
       "              'Please try Chrome, Safari or Firefox ≥ 6. ' +\n",
       "              'Firefox 4 and 5 are also supported but you ' +\n",
       "              'have to enable WebSockets in about:config.');\n",
       "    };\n",
       "}\n",
       "\n",
       "mpl.figure = function(figure_id, websocket, ondownload, parent_element) {\n",
       "    this.id = figure_id;\n",
       "\n",
       "    this.ws = websocket;\n",
       "\n",
       "    this.supports_binary = (this.ws.binaryType != undefined);\n",
       "\n",
       "    if (!this.supports_binary) {\n",
       "        var warnings = document.getElementById(\"mpl-warnings\");\n",
       "        if (warnings) {\n",
       "            warnings.style.display = 'block';\n",
       "            warnings.textContent = (\n",
       "                \"This browser does not support binary websocket messages. \" +\n",
       "                    \"Performance may be slow.\");\n",
       "        }\n",
       "    }\n",
       "\n",
       "    this.imageObj = new Image();\n",
       "\n",
       "    this.context = undefined;\n",
       "    this.message = undefined;\n",
       "    this.canvas = undefined;\n",
       "    this.rubberband_canvas = undefined;\n",
       "    this.rubberband_context = undefined;\n",
       "    this.format_dropdown = undefined;\n",
       "\n",
       "    this.image_mode = 'full';\n",
       "\n",
       "    this.root = $('<div/>');\n",
       "    this._root_extra_style(this.root)\n",
       "    this.root.attr('style', 'display: inline-block');\n",
       "\n",
       "    $(parent_element).append(this.root);\n",
       "\n",
       "    this._init_header(this);\n",
       "    this._init_canvas(this);\n",
       "    this._init_toolbar(this);\n",
       "\n",
       "    var fig = this;\n",
       "\n",
       "    this.waiting = false;\n",
       "\n",
       "    this.ws.onopen =  function () {\n",
       "            fig.send_message(\"supports_binary\", {value: fig.supports_binary});\n",
       "            fig.send_message(\"send_image_mode\", {});\n",
       "            if (mpl.ratio != 1) {\n",
       "                fig.send_message(\"set_dpi_ratio\", {'dpi_ratio': mpl.ratio});\n",
       "            }\n",
       "            fig.send_message(\"refresh\", {});\n",
       "        }\n",
       "\n",
       "    this.imageObj.onload = function() {\n",
       "            if (fig.image_mode == 'full') {\n",
       "                // Full images could contain transparency (where diff images\n",
       "                // almost always do), so we need to clear the canvas so that\n",
       "                // there is no ghosting.\n",
       "                fig.context.clearRect(0, 0, fig.canvas.width, fig.canvas.height);\n",
       "            }\n",
       "            fig.context.drawImage(fig.imageObj, 0, 0);\n",
       "        };\n",
       "\n",
       "    this.imageObj.onunload = function() {\n",
       "        fig.ws.close();\n",
       "    }\n",
       "\n",
       "    this.ws.onmessage = this._make_on_message_function(this);\n",
       "\n",
       "    this.ondownload = ondownload;\n",
       "}\n",
       "\n",
       "mpl.figure.prototype._init_header = function() {\n",
       "    var titlebar = $(\n",
       "        '<div class=\"ui-dialog-titlebar ui-widget-header ui-corner-all ' +\n",
       "        'ui-helper-clearfix\"/>');\n",
       "    var titletext = $(\n",
       "        '<div class=\"ui-dialog-title\" style=\"width: 100%; ' +\n",
       "        'text-align: center; padding: 3px;\"/>');\n",
       "    titlebar.append(titletext)\n",
       "    this.root.append(titlebar);\n",
       "    this.header = titletext[0];\n",
       "}\n",
       "\n",
       "\n",
       "\n",
       "mpl.figure.prototype._canvas_extra_style = function(canvas_div) {\n",
       "\n",
       "}\n",
       "\n",
       "\n",
       "mpl.figure.prototype._root_extra_style = function(canvas_div) {\n",
       "\n",
       "}\n",
       "\n",
       "mpl.figure.prototype._init_canvas = function() {\n",
       "    var fig = this;\n",
       "\n",
       "    var canvas_div = $('<div/>');\n",
       "\n",
       "    canvas_div.attr('style', 'position: relative; clear: both; outline: 0');\n",
       "\n",
       "    function canvas_keyboard_event(event) {\n",
       "        return fig.key_event(event, event['data']);\n",
       "    }\n",
       "\n",
       "    canvas_div.keydown('key_press', canvas_keyboard_event);\n",
       "    canvas_div.keyup('key_release', canvas_keyboard_event);\n",
       "    this.canvas_div = canvas_div\n",
       "    this._canvas_extra_style(canvas_div)\n",
       "    this.root.append(canvas_div);\n",
       "\n",
       "    var canvas = $('<canvas/>');\n",
       "    canvas.addClass('mpl-canvas');\n",
       "    canvas.attr('style', \"left: 0; top: 0; z-index: 0; outline: 0\")\n",
       "\n",
       "    this.canvas = canvas[0];\n",
       "    this.context = canvas[0].getContext(\"2d\");\n",
       "\n",
       "    var backingStore = this.context.backingStorePixelRatio ||\n",
       "\tthis.context.webkitBackingStorePixelRatio ||\n",
       "\tthis.context.mozBackingStorePixelRatio ||\n",
       "\tthis.context.msBackingStorePixelRatio ||\n",
       "\tthis.context.oBackingStorePixelRatio ||\n",
       "\tthis.context.backingStorePixelRatio || 1;\n",
       "\n",
       "    mpl.ratio = (window.devicePixelRatio || 1) / backingStore;\n",
       "\n",
       "    var rubberband = $('<canvas/>');\n",
       "    rubberband.attr('style', \"position: absolute; left: 0; top: 0; z-index: 1;\")\n",
       "\n",
       "    var pass_mouse_events = true;\n",
       "\n",
       "    canvas_div.resizable({\n",
       "        start: function(event, ui) {\n",
       "            pass_mouse_events = false;\n",
       "        },\n",
       "        resize: function(event, ui) {\n",
       "            fig.request_resize(ui.size.width, ui.size.height);\n",
       "        },\n",
       "        stop: function(event, ui) {\n",
       "            pass_mouse_events = true;\n",
       "            fig.request_resize(ui.size.width, ui.size.height);\n",
       "        },\n",
       "    });\n",
       "\n",
       "    function mouse_event_fn(event) {\n",
       "        if (pass_mouse_events)\n",
       "            return fig.mouse_event(event, event['data']);\n",
       "    }\n",
       "\n",
       "    rubberband.mousedown('button_press', mouse_event_fn);\n",
       "    rubberband.mouseup('button_release', mouse_event_fn);\n",
       "    // Throttle sequential mouse events to 1 every 20ms.\n",
       "    rubberband.mousemove('motion_notify', mouse_event_fn);\n",
       "\n",
       "    rubberband.mouseenter('figure_enter', mouse_event_fn);\n",
       "    rubberband.mouseleave('figure_leave', mouse_event_fn);\n",
       "\n",
       "    canvas_div.on(\"wheel\", function (event) {\n",
       "        event = event.originalEvent;\n",
       "        event['data'] = 'scroll'\n",
       "        if (event.deltaY < 0) {\n",
       "            event.step = 1;\n",
       "        } else {\n",
       "            event.step = -1;\n",
       "        }\n",
       "        mouse_event_fn(event);\n",
       "    });\n",
       "\n",
       "    canvas_div.append(canvas);\n",
       "    canvas_div.append(rubberband);\n",
       "\n",
       "    this.rubberband = rubberband;\n",
       "    this.rubberband_canvas = rubberband[0];\n",
       "    this.rubberband_context = rubberband[0].getContext(\"2d\");\n",
       "    this.rubberband_context.strokeStyle = \"#000000\";\n",
       "\n",
       "    this._resize_canvas = function(width, height) {\n",
       "        // Keep the size of the canvas, canvas container, and rubber band\n",
       "        // canvas in synch.\n",
       "        canvas_div.css('width', width)\n",
       "        canvas_div.css('height', height)\n",
       "\n",
       "        canvas.attr('width', width * mpl.ratio);\n",
       "        canvas.attr('height', height * mpl.ratio);\n",
       "        canvas.attr('style', 'width: ' + width + 'px; height: ' + height + 'px;');\n",
       "\n",
       "        rubberband.attr('width', width);\n",
       "        rubberband.attr('height', height);\n",
       "    }\n",
       "\n",
       "    // Set the figure to an initial 600x600px, this will subsequently be updated\n",
       "    // upon first draw.\n",
       "    this._resize_canvas(600, 600);\n",
       "\n",
       "    // Disable right mouse context menu.\n",
       "    $(this.rubberband_canvas).bind(\"contextmenu\",function(e){\n",
       "        return false;\n",
       "    });\n",
       "\n",
       "    function set_focus () {\n",
       "        canvas.focus();\n",
       "        canvas_div.focus();\n",
       "    }\n",
       "\n",
       "    window.setTimeout(set_focus, 100);\n",
       "}\n",
       "\n",
       "mpl.figure.prototype._init_toolbar = function() {\n",
       "    var fig = this;\n",
       "\n",
       "    var nav_element = $('<div/>')\n",
       "    nav_element.attr('style', 'width: 100%');\n",
       "    this.root.append(nav_element);\n",
       "\n",
       "    // Define a callback function for later on.\n",
       "    function toolbar_event(event) {\n",
       "        return fig.toolbar_button_onclick(event['data']);\n",
       "    }\n",
       "    function toolbar_mouse_event(event) {\n",
       "        return fig.toolbar_button_onmouseover(event['data']);\n",
       "    }\n",
       "\n",
       "    for(var toolbar_ind in mpl.toolbar_items) {\n",
       "        var name = mpl.toolbar_items[toolbar_ind][0];\n",
       "        var tooltip = mpl.toolbar_items[toolbar_ind][1];\n",
       "        var image = mpl.toolbar_items[toolbar_ind][2];\n",
       "        var method_name = mpl.toolbar_items[toolbar_ind][3];\n",
       "\n",
       "        if (!name) {\n",
       "            // put a spacer in here.\n",
       "            continue;\n",
       "        }\n",
       "        var button = $('<button/>');\n",
       "        button.addClass('ui-button ui-widget ui-state-default ui-corner-all ' +\n",
       "                        'ui-button-icon-only');\n",
       "        button.attr('role', 'button');\n",
       "        button.attr('aria-disabled', 'false');\n",
       "        button.click(method_name, toolbar_event);\n",
       "        button.mouseover(tooltip, toolbar_mouse_event);\n",
       "\n",
       "        var icon_img = $('<span/>');\n",
       "        icon_img.addClass('ui-button-icon-primary ui-icon');\n",
       "        icon_img.addClass(image);\n",
       "        icon_img.addClass('ui-corner-all');\n",
       "\n",
       "        var tooltip_span = $('<span/>');\n",
       "        tooltip_span.addClass('ui-button-text');\n",
       "        tooltip_span.html(tooltip);\n",
       "\n",
       "        button.append(icon_img);\n",
       "        button.append(tooltip_span);\n",
       "\n",
       "        nav_element.append(button);\n",
       "    }\n",
       "\n",
       "    var fmt_picker_span = $('<span/>');\n",
       "\n",
       "    var fmt_picker = $('<select/>');\n",
       "    fmt_picker.addClass('mpl-toolbar-option ui-widget ui-widget-content');\n",
       "    fmt_picker_span.append(fmt_picker);\n",
       "    nav_element.append(fmt_picker_span);\n",
       "    this.format_dropdown = fmt_picker[0];\n",
       "\n",
       "    for (var ind in mpl.extensions) {\n",
       "        var fmt = mpl.extensions[ind];\n",
       "        var option = $(\n",
       "            '<option/>', {selected: fmt === mpl.default_extension}).html(fmt);\n",
       "        fmt_picker.append(option)\n",
       "    }\n",
       "\n",
       "    // Add hover states to the ui-buttons\n",
       "    $( \".ui-button\" ).hover(\n",
       "        function() { $(this).addClass(\"ui-state-hover\");},\n",
       "        function() { $(this).removeClass(\"ui-state-hover\");}\n",
       "    );\n",
       "\n",
       "    var status_bar = $('<span class=\"mpl-message\"/>');\n",
       "    nav_element.append(status_bar);\n",
       "    this.message = status_bar[0];\n",
       "}\n",
       "\n",
       "mpl.figure.prototype.request_resize = function(x_pixels, y_pixels) {\n",
       "    // Request matplotlib to resize the figure. Matplotlib will then trigger a resize in the client,\n",
       "    // which will in turn request a refresh of the image.\n",
       "    this.send_message('resize', {'width': x_pixels, 'height': y_pixels});\n",
       "}\n",
       "\n",
       "mpl.figure.prototype.send_message = function(type, properties) {\n",
       "    properties['type'] = type;\n",
       "    properties['figure_id'] = this.id;\n",
       "    this.ws.send(JSON.stringify(properties));\n",
       "}\n",
       "\n",
       "mpl.figure.prototype.send_draw_message = function() {\n",
       "    if (!this.waiting) {\n",
       "        this.waiting = true;\n",
       "        this.ws.send(JSON.stringify({type: \"draw\", figure_id: this.id}));\n",
       "    }\n",
       "}\n",
       "\n",
       "\n",
       "mpl.figure.prototype.handle_save = function(fig, msg) {\n",
       "    var format_dropdown = fig.format_dropdown;\n",
       "    var format = format_dropdown.options[format_dropdown.selectedIndex].value;\n",
       "    fig.ondownload(fig, format);\n",
       "}\n",
       "\n",
       "\n",
       "mpl.figure.prototype.handle_resize = function(fig, msg) {\n",
       "    var size = msg['size'];\n",
       "    if (size[0] != fig.canvas.width || size[1] != fig.canvas.height) {\n",
       "        fig._resize_canvas(size[0], size[1]);\n",
       "        fig.send_message(\"refresh\", {});\n",
       "    };\n",
       "}\n",
       "\n",
       "mpl.figure.prototype.handle_rubberband = function(fig, msg) {\n",
       "    var x0 = msg['x0'] / mpl.ratio;\n",
       "    var y0 = (fig.canvas.height - msg['y0']) / mpl.ratio;\n",
       "    var x1 = msg['x1'] / mpl.ratio;\n",
       "    var y1 = (fig.canvas.height - msg['y1']) / mpl.ratio;\n",
       "    x0 = Math.floor(x0) + 0.5;\n",
       "    y0 = Math.floor(y0) + 0.5;\n",
       "    x1 = Math.floor(x1) + 0.5;\n",
       "    y1 = Math.floor(y1) + 0.5;\n",
       "    var min_x = Math.min(x0, x1);\n",
       "    var min_y = Math.min(y0, y1);\n",
       "    var width = Math.abs(x1 - x0);\n",
       "    var height = Math.abs(y1 - y0);\n",
       "\n",
       "    fig.rubberband_context.clearRect(\n",
       "        0, 0, fig.canvas.width, fig.canvas.height);\n",
       "\n",
       "    fig.rubberband_context.strokeRect(min_x, min_y, width, height);\n",
       "}\n",
       "\n",
       "mpl.figure.prototype.handle_figure_label = function(fig, msg) {\n",
       "    // Updates the figure title.\n",
       "    fig.header.textContent = msg['label'];\n",
       "}\n",
       "\n",
       "mpl.figure.prototype.handle_cursor = function(fig, msg) {\n",
       "    var cursor = msg['cursor'];\n",
       "    switch(cursor)\n",
       "    {\n",
       "    case 0:\n",
       "        cursor = 'pointer';\n",
       "        break;\n",
       "    case 1:\n",
       "        cursor = 'default';\n",
       "        break;\n",
       "    case 2:\n",
       "        cursor = 'crosshair';\n",
       "        break;\n",
       "    case 3:\n",
       "        cursor = 'move';\n",
       "        break;\n",
       "    }\n",
       "    fig.rubberband_canvas.style.cursor = cursor;\n",
       "}\n",
       "\n",
       "mpl.figure.prototype.handle_message = function(fig, msg) {\n",
       "    fig.message.textContent = msg['message'];\n",
       "}\n",
       "\n",
       "mpl.figure.prototype.handle_draw = function(fig, msg) {\n",
       "    // Request the server to send over a new figure.\n",
       "    fig.send_draw_message();\n",
       "}\n",
       "\n",
       "mpl.figure.prototype.handle_image_mode = function(fig, msg) {\n",
       "    fig.image_mode = msg['mode'];\n",
       "}\n",
       "\n",
       "mpl.figure.prototype.updated_canvas_event = function() {\n",
       "    // Called whenever the canvas gets updated.\n",
       "    this.send_message(\"ack\", {});\n",
       "}\n",
       "\n",
       "// A function to construct a web socket function for onmessage handling.\n",
       "// Called in the figure constructor.\n",
       "mpl.figure.prototype._make_on_message_function = function(fig) {\n",
       "    return function socket_on_message(evt) {\n",
       "        if (evt.data instanceof Blob) {\n",
       "            /* FIXME: We get \"Resource interpreted as Image but\n",
       "             * transferred with MIME type text/plain:\" errors on\n",
       "             * Chrome.  But how to set the MIME type?  It doesn't seem\n",
       "             * to be part of the websocket stream */\n",
       "            evt.data.type = \"image/png\";\n",
       "\n",
       "            /* Free the memory for the previous frames */\n",
       "            if (fig.imageObj.src) {\n",
       "                (window.URL || window.webkitURL).revokeObjectURL(\n",
       "                    fig.imageObj.src);\n",
       "            }\n",
       "\n",
       "            fig.imageObj.src = (window.URL || window.webkitURL).createObjectURL(\n",
       "                evt.data);\n",
       "            fig.updated_canvas_event();\n",
       "            fig.waiting = false;\n",
       "            return;\n",
       "        }\n",
       "        else if (typeof evt.data === 'string' && evt.data.slice(0, 21) == \"data:image/png;base64\") {\n",
       "            fig.imageObj.src = evt.data;\n",
       "            fig.updated_canvas_event();\n",
       "            fig.waiting = false;\n",
       "            return;\n",
       "        }\n",
       "\n",
       "        var msg = JSON.parse(evt.data);\n",
       "        var msg_type = msg['type'];\n",
       "\n",
       "        // Call the  \"handle_{type}\" callback, which takes\n",
       "        // the figure and JSON message as its only arguments.\n",
       "        try {\n",
       "            var callback = fig[\"handle_\" + msg_type];\n",
       "        } catch (e) {\n",
       "            console.log(\"No handler for the '\" + msg_type + \"' message type: \", msg);\n",
       "            return;\n",
       "        }\n",
       "\n",
       "        if (callback) {\n",
       "            try {\n",
       "                // console.log(\"Handling '\" + msg_type + \"' message: \", msg);\n",
       "                callback(fig, msg);\n",
       "            } catch (e) {\n",
       "                console.log(\"Exception inside the 'handler_\" + msg_type + \"' callback:\", e, e.stack, msg);\n",
       "            }\n",
       "        }\n",
       "    };\n",
       "}\n",
       "\n",
       "// from http://stackoverflow.com/questions/1114465/getting-mouse-location-in-canvas\n",
       "mpl.findpos = function(e) {\n",
       "    //this section is from http://www.quirksmode.org/js/events_properties.html\n",
       "    var targ;\n",
       "    if (!e)\n",
       "        e = window.event;\n",
       "    if (e.target)\n",
       "        targ = e.target;\n",
       "    else if (e.srcElement)\n",
       "        targ = e.srcElement;\n",
       "    if (targ.nodeType == 3) // defeat Safari bug\n",
       "        targ = targ.parentNode;\n",
       "\n",
       "    // jQuery normalizes the pageX and pageY\n",
       "    // pageX,Y are the mouse positions relative to the document\n",
       "    // offset() returns the position of the element relative to the document\n",
       "    var x = e.pageX - $(targ).offset().left;\n",
       "    var y = e.pageY - $(targ).offset().top;\n",
       "\n",
       "    return {\"x\": x, \"y\": y};\n",
       "};\n",
       "\n",
       "/*\n",
       " * return a copy of an object with only non-object keys\n",
       " * we need this to avoid circular references\n",
       " * http://stackoverflow.com/a/24161582/3208463\n",
       " */\n",
       "function simpleKeys (original) {\n",
       "  return Object.keys(original).reduce(function (obj, key) {\n",
       "    if (typeof original[key] !== 'object')\n",
       "        obj[key] = original[key]\n",
       "    return obj;\n",
       "  }, {});\n",
       "}\n",
       "\n",
       "mpl.figure.prototype.mouse_event = function(event, name) {\n",
       "    var canvas_pos = mpl.findpos(event)\n",
       "\n",
       "    if (name === 'button_press')\n",
       "    {\n",
       "        this.canvas.focus();\n",
       "        this.canvas_div.focus();\n",
       "    }\n",
       "\n",
       "    var x = canvas_pos.x * mpl.ratio;\n",
       "    var y = canvas_pos.y * mpl.ratio;\n",
       "\n",
       "    this.send_message(name, {x: x, y: y, button: event.button,\n",
       "                             step: event.step,\n",
       "                             guiEvent: simpleKeys(event)});\n",
       "\n",
       "    /* This prevents the web browser from automatically changing to\n",
       "     * the text insertion cursor when the button is pressed.  We want\n",
       "     * to control all of the cursor setting manually through the\n",
       "     * 'cursor' event from matplotlib */\n",
       "    event.preventDefault();\n",
       "    return false;\n",
       "}\n",
       "\n",
       "mpl.figure.prototype._key_event_extra = function(event, name) {\n",
       "    // Handle any extra behaviour associated with a key event\n",
       "}\n",
       "\n",
       "mpl.figure.prototype.key_event = function(event, name) {\n",
       "\n",
       "    // Prevent repeat events\n",
       "    if (name == 'key_press')\n",
       "    {\n",
       "        if (event.which === this._key)\n",
       "            return;\n",
       "        else\n",
       "            this._key = event.which;\n",
       "    }\n",
       "    if (name == 'key_release')\n",
       "        this._key = null;\n",
       "\n",
       "    var value = '';\n",
       "    if (event.ctrlKey && event.which != 17)\n",
       "        value += \"ctrl+\";\n",
       "    if (event.altKey && event.which != 18)\n",
       "        value += \"alt+\";\n",
       "    if (event.shiftKey && event.which != 16)\n",
       "        value += \"shift+\";\n",
       "\n",
       "    value += 'k';\n",
       "    value += event.which.toString();\n",
       "\n",
       "    this._key_event_extra(event, name);\n",
       "\n",
       "    this.send_message(name, {key: value,\n",
       "                             guiEvent: simpleKeys(event)});\n",
       "    return false;\n",
       "}\n",
       "\n",
       "mpl.figure.prototype.toolbar_button_onclick = function(name) {\n",
       "    if (name == 'download') {\n",
       "        this.handle_save(this, null);\n",
       "    } else {\n",
       "        this.send_message(\"toolbar_button\", {name: name});\n",
       "    }\n",
       "};\n",
       "\n",
       "mpl.figure.prototype.toolbar_button_onmouseover = function(tooltip) {\n",
       "    this.message.textContent = tooltip;\n",
       "};\n",
       "mpl.toolbar_items = [[\"Home\", \"Reset original view\", \"fa fa-home icon-home\", \"home\"], [\"Back\", \"Back to  previous view\", \"fa fa-arrow-left icon-arrow-left\", \"back\"], [\"Forward\", \"Forward to next view\", \"fa fa-arrow-right icon-arrow-right\", \"forward\"], [\"\", \"\", \"\", \"\"], [\"Pan\", \"Pan axes with left mouse, zoom with right\", \"fa fa-arrows icon-move\", \"pan\"], [\"Zoom\", \"Zoom to rectangle\", \"fa fa-square-o icon-check-empty\", \"zoom\"], [\"\", \"\", \"\", \"\"], [\"Download\", \"Download plot\", \"fa fa-floppy-o icon-save\", \"download\"]];\n",
       "\n",
       "mpl.extensions = [\"eps\", \"jpeg\", \"pdf\", \"png\", \"ps\", \"raw\", \"svg\", \"tif\"];\n",
       "\n",
       "mpl.default_extension = \"png\";var comm_websocket_adapter = function(comm) {\n",
       "    // Create a \"websocket\"-like object which calls the given IPython comm\n",
       "    // object with the appropriate methods. Currently this is a non binary\n",
       "    // socket, so there is still some room for performance tuning.\n",
       "    var ws = {};\n",
       "\n",
       "    ws.close = function() {\n",
       "        comm.close()\n",
       "    };\n",
       "    ws.send = function(m) {\n",
       "        //console.log('sending', m);\n",
       "        comm.send(m);\n",
       "    };\n",
       "    // Register the callback with on_msg.\n",
       "    comm.on_msg(function(msg) {\n",
       "        //console.log('receiving', msg['content']['data'], msg);\n",
       "        // Pass the mpl event to the overriden (by mpl) onmessage function.\n",
       "        ws.onmessage(msg['content']['data'])\n",
       "    });\n",
       "    return ws;\n",
       "}\n",
       "\n",
       "mpl.mpl_figure_comm = function(comm, msg) {\n",
       "    // This is the function which gets called when the mpl process\n",
       "    // starts-up an IPython Comm through the \"matplotlib\" channel.\n",
       "\n",
       "    var id = msg.content.data.id;\n",
       "    // Get hold of the div created by the display call when the Comm\n",
       "    // socket was opened in Python.\n",
       "    var element = $(\"#\" + id);\n",
       "    var ws_proxy = comm_websocket_adapter(comm)\n",
       "\n",
       "    function ondownload(figure, format) {\n",
       "        window.open(figure.imageObj.src);\n",
       "    }\n",
       "\n",
       "    var fig = new mpl.figure(id, ws_proxy,\n",
       "                           ondownload,\n",
       "                           element.get(0));\n",
       "\n",
       "    // Call onopen now - mpl needs it, as it is assuming we've passed it a real\n",
       "    // web socket which is closed, not our websocket->open comm proxy.\n",
       "    ws_proxy.onopen();\n",
       "\n",
       "    fig.parent_element = element.get(0);\n",
       "    fig.cell_info = mpl.find_output_cell(\"<div id='\" + id + \"'></div>\");\n",
       "    if (!fig.cell_info) {\n",
       "        console.error(\"Failed to find cell for figure\", id, fig);\n",
       "        return;\n",
       "    }\n",
       "\n",
       "    var output_index = fig.cell_info[2]\n",
       "    var cell = fig.cell_info[0];\n",
       "\n",
       "};\n",
       "\n",
       "mpl.figure.prototype.handle_close = function(fig, msg) {\n",
       "    var width = fig.canvas.width/mpl.ratio\n",
       "    fig.root.unbind('remove')\n",
       "\n",
       "    // Update the output cell to use the data from the current canvas.\n",
       "    fig.push_to_output();\n",
       "    var dataURL = fig.canvas.toDataURL();\n",
       "    // Re-enable the keyboard manager in IPython - without this line, in FF,\n",
       "    // the notebook keyboard shortcuts fail.\n",
       "    IPython.keyboard_manager.enable()\n",
       "    $(fig.parent_element).html('<img src=\"' + dataURL + '\" width=\"' + width + '\">');\n",
       "    fig.close_ws(fig, msg);\n",
       "}\n",
       "\n",
       "mpl.figure.prototype.close_ws = function(fig, msg){\n",
       "    fig.send_message('closing', msg);\n",
       "    // fig.ws.close()\n",
       "}\n",
       "\n",
       "mpl.figure.prototype.push_to_output = function(remove_interactive) {\n",
       "    // Turn the data on the canvas into data in the output cell.\n",
       "    var width = this.canvas.width/mpl.ratio\n",
       "    var dataURL = this.canvas.toDataURL();\n",
       "    this.cell_info[1]['text/html'] = '<img src=\"' + dataURL + '\" width=\"' + width + '\">';\n",
       "}\n",
       "\n",
       "mpl.figure.prototype.updated_canvas_event = function() {\n",
       "    // Tell IPython that the notebook contents must change.\n",
       "    IPython.notebook.set_dirty(true);\n",
       "    this.send_message(\"ack\", {});\n",
       "    var fig = this;\n",
       "    // Wait a second, then push the new image to the DOM so\n",
       "    // that it is saved nicely (might be nice to debounce this).\n",
       "    setTimeout(function () { fig.push_to_output() }, 1000);\n",
       "}\n",
       "\n",
       "mpl.figure.prototype._init_toolbar = function() {\n",
       "    var fig = this;\n",
       "\n",
       "    var nav_element = $('<div/>')\n",
       "    nav_element.attr('style', 'width: 100%');\n",
       "    this.root.append(nav_element);\n",
       "\n",
       "    // Define a callback function for later on.\n",
       "    function toolbar_event(event) {\n",
       "        return fig.toolbar_button_onclick(event['data']);\n",
       "    }\n",
       "    function toolbar_mouse_event(event) {\n",
       "        return fig.toolbar_button_onmouseover(event['data']);\n",
       "    }\n",
       "\n",
       "    for(var toolbar_ind in mpl.toolbar_items){\n",
       "        var name = mpl.toolbar_items[toolbar_ind][0];\n",
       "        var tooltip = mpl.toolbar_items[toolbar_ind][1];\n",
       "        var image = mpl.toolbar_items[toolbar_ind][2];\n",
       "        var method_name = mpl.toolbar_items[toolbar_ind][3];\n",
       "\n",
       "        if (!name) { continue; };\n",
       "\n",
       "        var button = $('<button class=\"btn btn-default\" href=\"#\" title=\"' + name + '\"><i class=\"fa ' + image + ' fa-lg\"></i></button>');\n",
       "        button.click(method_name, toolbar_event);\n",
       "        button.mouseover(tooltip, toolbar_mouse_event);\n",
       "        nav_element.append(button);\n",
       "    }\n",
       "\n",
       "    // Add the status bar.\n",
       "    var status_bar = $('<span class=\"mpl-message\" style=\"text-align:right; float: right;\"/>');\n",
       "    nav_element.append(status_bar);\n",
       "    this.message = status_bar[0];\n",
       "\n",
       "    // Add the close button to the window.\n",
       "    var buttongrp = $('<div class=\"btn-group inline pull-right\"></div>');\n",
       "    var button = $('<button class=\"btn btn-mini btn-primary\" href=\"#\" title=\"Stop Interaction\"><i class=\"fa fa-power-off icon-remove icon-large\"></i></button>');\n",
       "    button.click(function (evt) { fig.handle_close(fig, {}); } );\n",
       "    button.mouseover('Stop Interaction', toolbar_mouse_event);\n",
       "    buttongrp.append(button);\n",
       "    var titlebar = this.root.find($('.ui-dialog-titlebar'));\n",
       "    titlebar.prepend(buttongrp);\n",
       "}\n",
       "\n",
       "mpl.figure.prototype._root_extra_style = function(el){\n",
       "    var fig = this\n",
       "    el.on(\"remove\", function(){\n",
       "\tfig.close_ws(fig, {});\n",
       "    });\n",
       "}\n",
       "\n",
       "mpl.figure.prototype._canvas_extra_style = function(el){\n",
       "    // this is important to make the div 'focusable\n",
       "    el.attr('tabindex', 0)\n",
       "    // reach out to IPython and tell the keyboard manager to turn it's self\n",
       "    // off when our div gets focus\n",
       "\n",
       "    // location in version 3\n",
       "    if (IPython.notebook.keyboard_manager) {\n",
       "        IPython.notebook.keyboard_manager.register_events(el);\n",
       "    }\n",
       "    else {\n",
       "        // location in version 2\n",
       "        IPython.keyboard_manager.register_events(el);\n",
       "    }\n",
       "\n",
       "}\n",
       "\n",
       "mpl.figure.prototype._key_event_extra = function(event, name) {\n",
       "    var manager = IPython.notebook.keyboard_manager;\n",
       "    if (!manager)\n",
       "        manager = IPython.keyboard_manager;\n",
       "\n",
       "    // Check for shift+enter\n",
       "    if (event.shiftKey && event.which == 13) {\n",
       "        this.canvas_div.blur();\n",
       "        event.shiftKey = false;\n",
       "        // Send a \"J\" for go to next cell\n",
       "        event.which = 74;\n",
       "        event.keyCode = 74;\n",
       "        manager.command_mode();\n",
       "        manager.handle_keydown(event);\n",
       "    }\n",
       "}\n",
       "\n",
       "mpl.figure.prototype.handle_save = function(fig, msg) {\n",
       "    fig.ondownload(fig, null);\n",
       "}\n",
       "\n",
       "\n",
       "mpl.find_output_cell = function(html_output) {\n",
       "    // Return the cell and output element which can be found *uniquely* in the notebook.\n",
       "    // Note - this is a bit hacky, but it is done because the \"notebook_saving.Notebook\"\n",
       "    // IPython event is triggered only after the cells have been serialised, which for\n",
       "    // our purposes (turning an active figure into a static one), is too late.\n",
       "    var cells = IPython.notebook.get_cells();\n",
       "    var ncells = cells.length;\n",
       "    for (var i=0; i<ncells; i++) {\n",
       "        var cell = cells[i];\n",
       "        if (cell.cell_type === 'code'){\n",
       "            for (var j=0; j<cell.output_area.outputs.length; j++) {\n",
       "                var data = cell.output_area.outputs[j];\n",
       "                if (data.data) {\n",
       "                    // IPython >= 3 moved mimebundle to data attribute of output\n",
       "                    data = data.data;\n",
       "                }\n",
       "                if (data['text/html'] == html_output) {\n",
       "                    return [cell, data, j];\n",
       "                }\n",
       "            }\n",
       "        }\n",
       "    }\n",
       "}\n",
       "\n",
       "// Register the function which deals with the matplotlib target/channel.\n",
       "// The kernel may be null if the page has been refreshed.\n",
       "if (IPython.notebook.kernel != null) {\n",
       "    IPython.notebook.kernel.comm_manager.register_target('matplotlib', mpl.mpl_figure_comm);\n",
       "}\n"
      ],
      "text/plain": [
       "<IPython.core.display.Javascript object>"
      ]
     },
     "metadata": {},
     "output_type": "display_data"
    },
    {
     "data": {
      "text/html": [
       "<img src=\"data:image/png;base64,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\" width=\"640\">"
      ],
      "text/plain": [
       "<IPython.core.display.HTML object>"
      ]
     },
     "metadata": {},
     "output_type": "display_data"
    }
   ],
   "source": [
    "mu  = 0                 # mean     of distribution\n",
    "P   = 25                # variance of distribution\n",
    "P12 = sqrt(P)           # std. dev of distribution\n",
    "\n",
    "# Plotting\n",
    "N  = 201                # num of grid points\n",
    "xx = linspace(-20,20,N) # grid\n",
    "dx = xx[1]-xx[0]        # grid spacing\n",
    "pp = pdf_G_1(xx,mu,P)   # pdf values\n",
    "plt.subplot(211)        # allocate plot panel\n",
    "plt.plot(xx,pp);        # plot"
   ]
  },
  {
   "cell_type": "markdown",
   "metadata": {},
   "source": [
    "This could for example be the pdf of a stochastic noise variable. It could also describe our uncertainty about a parameter (or state), which we model as randomness in the Bayesian paradigm."
   ]
  },
  {
   "cell_type": "markdown",
   "metadata": {},
   "source": [
    "**Exc 2.4:** Change `P` in the above code, and re-run the cell. Look at the figure.\n",
    " * How does the pdf curve change when you increase P?\n",
    " * Re-set `P=25` and re-run (this is a convienient value for examples)"
   ]
  },
  {
   "cell_type": "markdown",
   "metadata": {},
   "source": [
    "**Exc 2.6:** Recall $p(x)$ from eqn (1). The following are helpful points to remember how it looks. Use pen, paper, and calculus. Hint: it's typically easier to analyse $\\log p(x)$ rather than $p(x)$ itself.\n",
    " * Where is the location of the mode (maximum) of the distribution? I.e. where $\\frac{d p(x)}{d x} = 0$.\n",
    " * Where is the inflection point? I.e. where $\\frac{d^2 p(x)}{d x^2} = 0$.\n",
    " * What is the value of $\\frac{d^2 \\log p(x)}{d x^2}$ at the mode?"
   ]
  },
  {
   "cell_type": "markdown",
   "metadata": {},
   "source": [
    "#### The multivariate (i.e. vector) case\n",
    "Here's the pdf of the *multivariate* Gaussian:\n",
    "\\begin{align}\n",
    "N(x|\\mu,P) &= |2 \\pi P|^{-\\frac{1}{2}} e^{-\\frac{1}{2}\\|x-\\mu\\|^2_P} \\, , \\\\\\\n",
    "\\end{align}\n",
    "where $|.|$ represents the determinant, and $\\|.\\|_W$ represents the norm with weighting: $\\|x\\|^2_W = x^T W^{-1} x$.\n",
    "\n",
    "The following implements this pdf. Take a moment to digest the code; in particular, it should be noted that `pdf_G_m()` can accept multiple `x` vectors at once (assembled into a matrix), whence the `xx` naming convention."
   ]
  },
  {
   "cell_type": "code",
   "execution_count": 6,
   "metadata": {
    "collapsed": true
   },
   "outputs": [],
   "source": [
    "from numpy.linalg import det, inv\n",
    "\n",
    "def weighted_norm22(xx,W):\n",
    "    # Computes the norm of each row vector of xx, as weighted by W.\n",
    "    return np.sum((xx @ inv(W)) * xx, axis=1)\n",
    "\n",
    "def pdf_G_m(xx,mu,P):\n",
    "    return 1/sqrt(det(2*pi*P))*exp(-0.5*weighted_norm22(xx-mu,P))"
   ]
  },
  {
   "cell_type": "markdown",
   "metadata": {},
   "source": [
    "The following code plots the pdf as contour (equi-density) curves.\n",
    "The plot appears in the above figure."
   ]
  },
  {
   "cell_type": "code",
   "execution_count": 9,
   "metadata": {},
   "outputs": [
    {
     "name": "stderr",
     "output_type": "stream",
     "text": [
      "/Users/brajard/anaconda/envs/nn/lib/python3.6/site-packages/matplotlib/cbook/deprecation.py:106: MatplotlibDeprecationWarning: Adding an axes using the same arguments as a previous axes currently reuses the earlier instance.  In a future version, a new instance will always be created and returned.  Meanwhile, this warning can be suppressed, and the future behavior ensured, by passing a unique label to each axes instance.\n",
      "  warnings.warn(message, mplDeprecation, stacklevel=1)\n"
     ]
    }
   ],
   "source": [
    "def list_2_array(grid): return array([xi.ravel() for xi in grid]).T\n",
    "def square_reshape(X):  return X.reshape(int(sqrt(len(X))),-1)\n",
    "\n",
    "grid = np.meshgrid(xx,xx)\n",
    "grid = list_2_array(grid)\n",
    "\n",
    "pp = pdf_G_m(grid, 0, P*array([[1,0.7],[0.7,1]]))\n",
    "pp = square_reshape(pp)\n",
    "\n",
    "plt.subplot(212)\n",
    "plt.contour(xx,xx,pp);\n",
    "plt.axis('equal');\n",
    "plt.show()"
   ]
  },
  {
   "cell_type": "markdown",
   "metadata": {},
   "source": [
    "**Exc 2.8:**\n",
    " * Set the correlation to 0. How do the contours look?\n",
    " * Set the correlations to 0.99. How do the contours look?"
   ]
  },
  {
   "cell_type": "markdown",
   "metadata": {},
   "source": [
    "**Exc 2.9:** Go play the [correlation game](http://guessthecorrelation.com/)"
   ]
  },
  {
   "cell_type": "markdown",
   "metadata": {},
   "source": [
    "### Bayes' rule\n",
    "Bayes' rule is how we do inference. For continuous random variables, $x$ and $y$, it reads:\n",
    "\n",
    "$$ p(x|y) = \\frac{p(x) \\, p(y|x)}{p(y)} \\, , \\qquad \\qquad (2)$$\n",
    "\n",
    "or, in words:\n",
    "\n",
    "\n",
    "$$\n",
    "\\text{\"posterior\" (pdf of $x$ given $y$)}\n",
    "\\; = \\;\n",
    "\\frac{\\text{\"prior\" (pdf of $x$)}\n",
    "\\; \\times \\;\n",
    "\\text{\"likelihood\" (pdf of $y$ given $x$)}}\n",
    "{\\text{\"normalization\" (pdf of $y$)}}\n",
    "$$.\n",
    "\n",
    "**Exc 2.10:** Derive Bayes' rule from the definition of [conditional pdf's](https://en.wikipedia.org/wiki/Conditional_probability#Kolmogorov_definition)."
   ]
  },
  {
   "cell_type": "code",
   "execution_count": 10,
   "metadata": {},
   "outputs": [
    {
     "data": {
      "text/html": [
       "<div style=\"background-color:#d8e7ff;padding:0.5em;\"><p><a href=\"https://en.wikipedia.org/wiki/Bayes%27_theorem#Derivation\" target=\"_blank\">Wikipedia</a></p></div>"
      ],
      "text/plain": [
       "<IPython.core.display.HTML object>"
      ]
     },
     "metadata": {},
     "output_type": "display_data"
    }
   ],
   "source": [
    "show_answer('BR deriv')"
   ]
  },
  {
   "cell_type": "markdown",
   "metadata": {},
   "source": [
    "Computers generally work with discrete, numerical representations of mathematical entities.\n",
    "Numerically, pdfs may be represented by their `values` on a grid, such as `xx` from above. Bayes' rule (2) then consists of *(grid-)point-wise* multiplication, as shown below."
   ]
  },
  {
   "cell_type": "code",
   "execution_count": 11,
   "metadata": {
    "collapsed": true
   },
   "outputs": [],
   "source": [
    "def Bayes_rule(prior_values,lklhd_values,dx):\n",
    "    pp = prior_values * lklhd_values   # pointwise multiplication\n",
    "    posterior_values = pp/(sum(pp)*dx) # normalization\n",
    "    return posterior_values"
   ]
  },
  {
   "cell_type": "markdown",
   "metadata": {},
   "source": [
    "**Exc 2.12:** Why does `Bayes_rule()` not need the values of the denominator, $p(y)$, as input?"
   ]
  },
  {
   "cell_type": "code",
   "execution_count": 12,
   "metadata": {},
   "outputs": [
    {
     "data": {
      "text/html": [
       "<div style=\"background-color:#d8e7ff;padding:0.5em;\"><p>Because it can compute $p(y)$ as\n",
       "the factor needed to normalize to 1,\n",
       "as required by the definition of pdfs.</p>\n",
       "<p>That's what the <code>#normalization</code> line does.</p>\n",
       "<p>Here's the proof that the normalization (which makes <code>pp</code> sum to 1) is equivalent to dividing by $p(y)$:\n",
       "$$\\texttt{sum(pp)*dx} \\approx \\int p(x) p(y|x) \\, dx = \\int p(x,y) \\, dx = p(y) \\, .$$</p></div>"
      ],
      "text/plain": [
       "<IPython.core.display.HTML object>"
      ]
     },
     "metadata": {},
     "output_type": "display_data"
    }
   ],
   "source": [
    "show_answer('BR grid normalization')"
   ]
  },
  {
   "cell_type": "markdown",
   "metadata": {},
   "source": [
    "In fact, since normalization is so simple, we often don't bother to do it until it's strictly necessary. Therefore we often simplify Bayes' rule (2) as\n",
    "$$ p(x|y) \\propto p(x) \\, p(y|x) \\, .  \\qquad \\qquad (3) $$\n",
    "\n"
   ]
  },
  {
   "cell_type": "markdown",
   "metadata": {},
   "source": [
    "---\n",
    "The code below show's Bayes' rule in action. Again, remember that the only thing it's doing is multiplying the prior and likelihood at each gridpoint. Move the sliders with the arrow keys to animate it."
   ]
  },
  {
   "cell_type": "code",
   "execution_count": 13,
   "metadata": {},
   "outputs": [
    {
     "data": {
      "application/vnd.jupyter.widget-view+json": {
       "model_id": "8bcb2d485d8b4dfb9c3f4fc18312f906"
      }
     },
     "metadata": {},
     "output_type": "display_data"
    }
   ],
   "source": [
    "%matplotlib inline\n",
    "\n",
    "b = 0 # prior mean\n",
    "B = 1 # prior variance\n",
    "\n",
    "@interact(y=(-10,10,1),log_R=(-2,5,0.5))\n",
    "def animate_Gaussian_Bayes(y=4.0,log_R=1):\n",
    "\n",
    "    R = exp(log_R)\n",
    "\n",
    "    prior     = lambda x: pdf_G_1(x,b,B)\n",
    "    lklhd     = lambda x: pdf_G_1(y,x,R)\n",
    "    \n",
    "    post_vals = Bayes_rule(prior(xx),lklhd(xx),xx[1]-xx[0])\n",
    "\n",
    "    plt.figure(figsize=(10,4))\n",
    "    plt.plot(xx,prior(xx)     ,label='prior N(x|0,1)')\n",
    "    plt.plot(xx,lklhd(xx)     ,label='likelihood N(y|x,R)')\n",
    "    plt.plot(xx,post_vals     ,label='posterior - pointwise')\n",
    "    \n",
    "    ### Uncomment this block AFTER doing the exercise ###\n",
    "    ### that defines Bayes_rule_Gaussian()            ###\n",
    "    #mu, P     = Bayes_rule_Gaussian(b,B,y,R)\n",
    "    #postr     = lambda x: pdf_G_1(x,mu,P)\n",
    "    #plt.plot(xx,postr(xx),'--',label='posterior - parametric')\n",
    "    \n",
    "    plt.ylim(ymax=0.6)\n",
    "    plt.legend()\n",
    "    plt.show()"
   ]
  },
  {
   "cell_type": "markdown",
   "metadata": {},
   "source": [
    "**Exc 2.14:** Answer the following by moving the sliders and seeing what happens.\n",
    " * What happens to the posterior when $R \\rightarrow \\infty$ ?\n",
    " * What happens to the posterior when $R \\rightarrow 0$ ?\n",
    " * Where is the posterior when $R = B$ ? (try moving around $y$)\n",
    " * Does the posterior scale (width) depend on $y$?\n",
    " * Forgetting about its location and scale, what is the shape of the posterior? Does this depend on $R$ or $y$? Can you see why?\n",
    " * Can you see a shortcut to computing this posterior rather than having to do the pointwise multiplication?"
   ]
  },
  {
   "cell_type": "markdown",
   "metadata": {},
   "source": [
    "**Exc 2.15*:** Implement a \"uniform\" (or \"flat\" or \"box\") distribution pdf and call it `pdf_U_1(x,mu,P)`. These <a href=\"https://en.wikipedia.org/wiki/Uniform_distribution_(continuous)#Moments\">formulae</a> for its mean/variance will be useful. In the above animations, replace `pdf_G_1` with your new `pdf_U_1` (both for the prior and likelihood). Assure that everything is working correctly. \n",
    " - Why (in the figure) are the walls of the pdf (ever so slightly) inclined?\n",
    " - What happens when you move the prior and likelihood very far apart? Is the fault of the implementation, or the fundamental assumptions (uniform distribution)?\n",
    " - Re-do Exc 2.14, now with `pdf_U_1`.\n",
    " - Now test a Gaussian prior with a uniform likelihood.\n",
    " - Restore `pdf_G_1` (both the prior and likelihood) in the animation (for later use).\n",
    " "
   ]
  },
  {
   "cell_type": "code",
   "execution_count": 14,
   "metadata": {},
   "outputs": [
    {
     "data": {
      "text/html": [
       "<div style=\"background-color:#d8e7ff;padding:0.5em;\"><pre><code>def pdf_U_1(x,mu,P):\n",
       "    # Univariate (scalar), Uniform pdf\n",
       "\n",
       "    pdf_values = ones((x-mu).shape)\n",
       "\n",
       "    a = mu - sqrt(3*P)\n",
       "    b = mu + sqrt(3*P)\n",
       "\n",
       "    pdf_values[x&lt;a] = 0\n",
       "    pdf_values[x&gt;b] = 0\n",
       "\n",
       "    height = 1/(b-a)\n",
       "    pdf_values *= height\n",
       "\n",
       "    return pdf_values\n",
       "</code></pre></div>"
      ],
      "text/plain": [
       "<IPython.core.display.HTML object>"
      ]
     },
     "metadata": {},
     "output_type": "display_data"
    }
   ],
   "source": [
    "show_answer('pdf_U_1')"
   ]
  },
  {
   "cell_type": "markdown",
   "metadata": {
    "collapsed": true
   },
   "source": [
    "### Gaussian-Gaussian Bayes\n",
    "\n",
    "The above animation shows Bayes' rule in 1 dimension. Previously, we saw how a Gaussian looks in 2 dimensions. Can you imagine how Bayes' rule looks in 2 dimensions? In higher dimensions, these things get difficult to imagine, let alone visualize.\n",
    "\n",
    "Similarly, the size of the calculations required for Bayes' rule poses a difficulty. Indeed, the following exercise shows that (pointwise) multiplication for all grid points becomes a preposterious notion in high dimensions.\n",
    "\n",
    "**Exc 2.16:**\n",
    " * (a) How many point-multiplications are needed on a grid with $N$ points in $m$ dimensions? (Imagine an $m$-dimensional cube where each side has a grid with $N$ points on it)\n",
    " * (b) Suppose we model 15 physical quanitites, on each grid point, on a discretized model of Earth. Assume the resolution is $1^\\circ$ for latitude (110km), $1^\\circ$ for longitude. How many variables are there in total? This is the dimensionality ($m$) of the problem.\n",
    " * (c) Suppose each variable is has a pdf represented with a grid using only $N=10$ points. How many multiplications are necessary to calculate Bayes rule (jointly) for all variables on our Earth model?"
   ]
  },
  {
   "cell_type": "code",
   "execution_count": 15,
   "metadata": {},
   "outputs": [
    {
     "data": {
      "text/html": [
       "<div style=\"background-color:#d8e7ff;padding:0.5em;\"><p>$N^m$</p></div>"
      ],
      "text/plain": [
       "<IPython.core.display.HTML object>"
      ]
     },
     "metadata": {},
     "output_type": "display_data"
    },
    {
     "data": {
      "text/html": [
       "<div style=\"background-color:#d8e7ff;padding:0.5em;\"><p>$15 * 360 * 180 = 972'000 \\approx 10^6$</p></div>"
      ],
      "text/plain": [
       "<IPython.core.display.HTML object>"
      ]
     },
     "metadata": {},
     "output_type": "display_data"
    },
    {
     "data": {
      "text/html": [
       "<div style=\"background-color:#d8e7ff;padding:0.5em;\"><p>$10^{10^6}$</p></div>"
      ],
      "text/plain": [
       "<IPython.core.display.HTML object>"
      ]
     },
     "metadata": {},
     "output_type": "display_data"
    }
   ],
   "source": [
    "show_answer('Dimensionality a')\n",
    "show_answer('Dimensionality b')\n",
    "show_answer('Dimensionality c')"
   ]
  },
  {
   "cell_type": "markdown",
   "metadata": {},
   "source": [
    "In response to this computational difficulty, we try to be smart and do something more analytical (\"pen-and-paper\"): we only compute the parameters (mean and (co)variance) of the posterior pdf.\n",
    "\n",
    "This is doable and quite simple in the Gaussian-Gaussian case.\n",
    "With a prior $p(x) = N(x|b,B)$ and a likelihood $p(y|x) = N(y|x,R)$, the posterior will be given by\n",
    "\\begin{align}\n",
    "p(x|y)\n",
    "&= N(x|\\mu,P) \\qquad \\qquad (4) \n",
    "\\, ,\n",
    "\\end{align}\n",
    "where, in the univarite (1-dimensional) case:\n",
    "\\begin{align}\n",
    "    P &= 1/(1/B + 1/R) \\, , \\qquad \\qquad (5) \\\\\\\n",
    "  \\mu &= P(b/B + y/R) \\, .  \\qquad \\qquad (6) \n",
    "\\end{align}\n",
    "\n",
    "\n",
    "#### Exc  2.18 'Gaussian Bayes':\n",
    "Derive the above expressions for $P$ and $\\mu$.\n",
    "*Hint: you need eqns (1) and (3).*"
   ]
  },
  {
   "cell_type": "code",
   "execution_count": 16,
   "metadata": {},
   "outputs": [
    {
     "data": {
      "text/html": [
       "<div style=\"background-color:#d8e7ff;padding:0.5em;\"><p>We can ignore factors that do not depend on $x$.</p>\n",
       "<p>\\begin{align}\n",
       "p(x|y)\n",
       "&amp;= \\frac{p(x) \\, p(y|x)}{p(y)} \\\\\n",
       "&amp;\\propto p(x) \\, p(y|x) \\\\\n",
       "&amp;=       N(x|b,B) \\, N(y|x,R) \\\\\n",
       "&amp;\\propto \\exp \\Big( \\frac{-1}{2} \\Big( (x-b)^2/B + (x-y)^2/R \\Big) \\Big) \\\\\n",
       "&amp;\\propto \\exp \\Big( \\frac{-1}{2} \\Big( (1/B + 1/R)x^2 - 2(b/B + y/R)x \\Big) \\Big) \\\\\n",
       "&amp;\\propto \\exp \\Big( \\frac{-1}{2} \\Big( x - \\frac{b/B + y/R}{1/B + 1/R} \\Big)^2 \\cdot (1/B + 1/R) \\Big) \\, .\n",
       "\\end{align}</p>\n",
       "<p>The last line can be identified as $N(x|\\mu,P)$ as defined above.</p></div>"
      ],
      "text/plain": [
       "<IPython.core.display.HTML object>"
      ]
     },
     "metadata": {},
     "output_type": "display_data"
    }
   ],
   "source": [
    "show_answer('BR Gauss')"
   ]
  },
  {
   "cell_type": "markdown",
   "metadata": {},
   "source": [
    "**Exc 2.20:** Do some light algebra to show that eqns (5) and (6) can be rewritten as\n",
    "\\begin{align}\n",
    "    P &= (1-K)B \\, ,  \\qquad \\qquad (8) \\\\\\\n",
    "  \\mu &= b + K (y-b)  \\qquad \\quad (9) \\, ,\n",
    "\\end{align}\n",
    "where $K = B/(B+R)$, which is called the \"Kalman gain\"."
   ]
  },
  {
   "cell_type": "markdown",
   "metadata": {},
   "source": [
    "**Exc 2.22*:** Consider the formula for $K$ and its role in the previous couple of equations... Why do you think $K$ is called a \"gain\"?"
   ]
  },
  {
   "cell_type": "code",
   "execution_count": 17,
   "metadata": {},
   "outputs": [
    {
     "data": {
      "text/html": [
       "<div style=\"background-color:#d8e7ff;padding:0.5em;\"><p>Because it</p>\n",
       "<ul>\n",
       "<li>drags the estimate from $b$ \"towards\" $y$.</li>\n",
       "<li>is between 0 and 1.</li>\n",
       "<li>weights the observation noise level (R) vs. the total noise level (B+R).</li>\n",
       "<li>In the multivariate case (and with $H=I$), the same holds for its eigenvectors.</li>\n",
       "</ul></div>"
      ],
      "text/plain": [
       "<IPython.core.display.HTML object>"
      ]
     },
     "metadata": {},
     "output_type": "display_data"
    }
   ],
   "source": [
    "show_answer('KG 2')"
   ]
  },
  {
   "cell_type": "markdown",
   "metadata": {},
   "source": [
    "**Exc 2.24:** Implement a Gaussian-Gaussian Bayes' rule by completing the code below."
   ]
  },
  {
   "cell_type": "code",
   "execution_count": null,
   "metadata": {
    "collapsed": true
   },
   "outputs": [],
   "source": [
    "def Bayes_rule_Gaussian(b,B,y,R):\n",
    "    ### INSERT ANSWER HERE ###\n",
    "    return mu,P"
   ]
  },
  {
   "cell_type": "code",
   "execution_count": 18,
   "metadata": {},
   "outputs": [
    {
     "data": {
      "text/html": [
       "<div style=\"background-color:#d8e7ff;padding:0.5em;\"><pre><code>P  = 1/(1/B+1/R)\n",
       "mu = P*(b/B+y/R)\n",
       "# Gain version:\n",
       "#     KG = B/(B+R)\n",
       "#     P  = (1-KG)*B\n",
       "#     mu = b + KG*(y-b)\n",
       "</code></pre></div>"
      ],
      "text/plain": [
       "<IPython.core.display.HTML object>"
      ]
     },
     "metadata": {},
     "output_type": "display_data"
    }
   ],
   "source": [
    "show_answer('BR Gauss code')"
   ]
  },
  {
   "cell_type": "markdown",
   "metadata": {},
   "source": [
    "**Exc 2.26:** Then, go back to the animation above, and uncomment the block that makes use of `Bayes_rule_Gaussian()`. Make sure its curve coincides with that which uses pointwise multiplication (i.e. `Bayes_rule()`)."
   ]
  },
  {
   "cell_type": "markdown",
   "metadata": {},
   "source": [
    "**Exc 2.28:** More questions related to the above animation:\n",
    " * Does the width (i.e. scale) for the posterior depend on the location $y$ of the likelihood?\n",
    " * Is the width (i.e. scale) for the posterior always smaller that that of prior and likelihood? What does this mean information-wise?\n",
    "   * Do you think this is always the case, also for non-Gaussian distributions?\n",
    " * What if you're pretty sure about something, and you get a wildly different indication (observation). What is your posterior certainty?"
   ]
  },
  {
   "cell_type": "markdown",
   "metadata": {},
   "source": [
    "**Exc 2.30*:** Why are we so fond of the Gaussian assumption?"
   ]
  },
  {
   "cell_type": "code",
   "execution_count": 19,
   "metadata": {},
   "outputs": [
    {
     "data": {
      "text/html": [
       "<div style=\"background-color:#d8e7ff;padding:0.5em;\"><ul>\n",
       "<li>Pragmatic: leads to least-squares problems, which lead to linear systems of equations.\n",
       "   This was demonstrated by the simplicity of the parametric Gaussian-Gaussian Bayes' rule.</li>\n",
       "<li>The central limit theorem (CLT) and all of its implications.</li>\n",
       "<li>The intuitive condition \"ML estimator = sample average\" implies the sample is drawn from a Gaussian.</li>\n",
       "<li>For more, see chapter 7 of: <a href=\"https://books.google.com/books/about/Probability_Theory.html?id=tTN4HuUNXjgC\">Probability theory: the logic of science</a> (Edwin T. Jaynes), which is an excellent book for understanding probability and statistics.</li>\n",
       "</ul></div>"
      ],
      "text/plain": [
       "<IPython.core.display.HTML object>"
      ]
     },
     "metadata": {},
     "output_type": "display_data"
    }
   ],
   "source": [
    "show_answer('why Gaussian')"
   ]
  },
  {
   "cell_type": "markdown",
   "metadata": {},
   "source": [
    "### Next: [Univariate (scalar) Kalman filtering](T3 - Univariate Kalman filtering.ipynb)"
   ]
  }
 ],
 "metadata": {
  "anaconda-cloud": {},
  "kernelspec": {
   "display_name": "Python 3",
   "language": "python",
   "name": "python3"
  },
  "language_info": {
   "codemirror_mode": {
    "name": "ipython",
    "version": 3
   },
   "file_extension": ".py",
   "mimetype": "text/x-python",
   "name": "python",
   "nbconvert_exporter": "python",
   "pygments_lexer": "ipython3",
   "version": "3.6.1"
  }
 },
 "nbformat": 4,
 "nbformat_minor": 1
}
